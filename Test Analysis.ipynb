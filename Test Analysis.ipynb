{
    "cells": [
        {
            "cell_type": "markdown",
            "metadata": {},
            "source": "Practice Notebook"
        },
        {
            "cell_type": "code",
            "execution_count": null,
            "metadata": {},
            "outputs": [],
            "source": "for x in range(10):\n    print(x)"
        },
        {
            "cell_type": "code",
            "execution_count": null,
            "metadata": {},
            "outputs": [],
            "source": "for x in range(50,101):\n    if x%2 == 0:\n        print(x)\nprint(\"Even Numbers\")"
        },
        {
            "cell_type": "code",
            "execution_count": null,
            "metadata": {},
            "outputs": [],
            "source": "my_numbers = [2,8,9,67,5,88,99,900,89,7,6,5,7]\n\ny = 0\nwhile y < 13:\n    print(\"Number \" + str(x+1) + \":\" + my_numbers)\nprint(\"That's it!\")"
        },
        {
            "cell_type": "code",
            "execution_count": null,
            "metadata": {},
            "outputs": [],
            "source": "players = [\"Christiano Ronaldo\", \"Lionel Messi\", \"Eden Hazard\", \"Mesut Ozil\", \"Kevin Debruyne\"]\n\ny = 0\nwhile y < 5:\n    print(\"Player \" + str(y+1) + \":\" + players)\nprint(\"Some of the best footballers i know\")"
        },
        {
            "cell_type": "code",
            "execution_count": null,
            "metadata": {},
            "outputs": [],
            "source": "players = [\"Christiano Ronaldo\", \"Lionel Messi\", \"Eden Hazard\", \"Mesut Ozil\", \"Kevin Debruyne\"]\n\ny = 0\nwhile y < 5:\n    print(\"Player \" + str(y+1) + \":\" + players)\n    y += 1\nprint(\"Some of the best footballers i know\")\n"
        },
        {
            "cell_type": "code",
            "execution_count": null,
            "metadata": {},
            "outputs": [],
            "source": "my_players = [\"Christiano Ronaldo\", \"Lionel Messi\", \"Eden Hazard\", \"Mesut Ozil\"]\n\nx = 0\nwhile x < 4:\n    print(\"player \" + str(x+1) + \": \" + my_players[x])\n    x += 1\nprint(\"Some of the best footballers i know\")"
        },
        {
            "cell_type": "code",
            "execution_count": null,
            "metadata": {},
            "outputs": [],
            "source": "my_players = [\"Christiano Ronaldo\", \"Lionel Messi\", \"Eden Hazard\", \"Mesut Ozil\", \"Mohammed Salah\"]\n\nfor y in range(5):\n    if y > 2:\n        break\n    print(\"player \" + str(y+1) + \": \" + my_players[y])\nprint(\"Top three footballers!\")"
        },
        {
            "cell_type": "code",
            "execution_count": null,
            "metadata": {},
            "outputs": [],
            "source": "### using continue\nmy_players = [\"Christiano Ronaldo\", \"Lionel Messi\", \"Eden Hazard\", \"Mesut Ozil\", \"Mohammed Salah\"]\n\nx = 0\nwhile x < 5:\n    if x == 3:\n        continue\n    print(\"player \" + str(x+1) + \": \" + my_players[x])\n    x += 1\nprint(\"Top footballers!\")"
        },
        {
            "cell_type": "code",
            "execution_count": null,
            "metadata": {},
            "outputs": [],
            "source": ""
        }
    ],
    "metadata": {
        "kernelspec": {
            "display_name": "Python 3.6",
            "language": "python",
            "name": "python3"
        },
        "language_info": {
            "codemirror_mode": {
                "name": "ipython",
                "version": 3
            },
            "file_extension": ".py",
            "mimetype": "text/x-python",
            "name": "python",
            "nbconvert_exporter": "python",
            "pygments_lexer": "ipython3",
            "version": "3.6.9"
        }
    },
    "nbformat": 4,
    "nbformat_minor": 1
}